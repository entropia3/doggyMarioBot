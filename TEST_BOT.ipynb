{
 "cells": [
  {
   "cell_type": "code",
   "execution_count": null,
   "metadata": {},
   "outputs": [],
   "source": [
    "import telebot ##импортируем библиотеку для работы с API телеги\n",
    "bot = telebot.TeleBot('1309807973:AAFGQK0oYrByNDnpNQlw60y-wRMLkmpjXMA') ##подключаемся к боту, используя токен\n",
    "\n",
    "\n",
    "@bot.message_handler(content_types=['text'])\n",
    "\n",
    "#bot.send_message(message.from_user.id, \"Привет, скажи мне 'Привет Марио' или я не буду с тобой разговаривать \")\n",
    "#if message.text == \"Привет Марио\":\n",
    "#    tlk = 'Y'\n",
    "#else tlk = 'N'\n",
    "\n",
    "#if tlk == 'N':\n",
    "#    bot.send_message(message.from_user.id, \"Так, я с тобой не разговариваю...\")\n",
    "#else:\n",
    "    \n",
    "\n",
    "def handle_text_messages(message):\n",
    "    if message.text == \"Привет\":\n",
    "            bot.send_message(message.from_user.id, \"Привет\")\n",
    "    elif message.text == \"Кто ты?\":\n",
    "            bot.send_message(message.from_user.id, \"Я тестовый чатбот для учебного примера.\")\n",
    "    elif message.text == \"Как тебя зовут?\":\n",
    "            bot.send_message(message.from_user.id, \"Меня зовут doggyMarioBot.\")\n",
    "        #elif message.text == \"Что ты умеешь?\":\n",
    "        #    bot.send_message(message.from_user.id, \"Я умею отвечать на несколько простых вопросов - кто я, как меня зовут и что я умею делать.\")\n",
    "        #else:\n",
    "        #    bot.send_message(message.from_user.id, \"Я тебя не понимаю. Напиши что-то другое.\")\n",
    "bot.polling(none_stop=True, interval=0)\n"
   ]
  },
  {
   "cell_type": "code",
   "execution_count": null,
   "metadata": {},
   "outputs": [],
   "source": []
  },
  {
   "cell_type": "code",
   "execution_count": null,
   "metadata": {},
   "outputs": [],
   "source": []
  },
  {
   "cell_type": "code",
   "execution_count": null,
   "metadata": {},
   "outputs": [],
   "source": []
  }
 ],
 "metadata": {
  "kernelspec": {
   "display_name": "Python 3",
   "language": "python",
   "name": "python3"
  },
  "language_info": {
   "codemirror_mode": {
    "name": "ipython",
    "version": 3
   },
   "file_extension": ".py",
   "mimetype": "text/x-python",
   "name": "python",
   "nbconvert_exporter": "python",
   "pygments_lexer": "ipython3",
   "version": "3.8.3"
  }
 },
 "nbformat": 4,
 "nbformat_minor": 4
}
